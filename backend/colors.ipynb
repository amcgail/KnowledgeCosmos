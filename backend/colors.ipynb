{
 "cells": [
  {
   "cell_type": "code",
   "execution_count": 3,
   "metadata": {},
   "outputs": [],
   "source": [
    "from matplotlib import pyplot as plt"
   ]
  },
  {
   "cell_type": "code",
   "execution_count": 14,
   "metadata": {},
   "outputs": [],
   "source": [
    "colors = []\n",
    "for i in range(6):\n",
    "    colors.append(plt.cm.spring(i/5))"
   ]
  },
  {
   "cell_type": "code",
   "execution_count": 34,
   "metadata": {},
   "outputs": [],
   "source": [
    "colors = []\n",
    "N = 10\n",
    "for i in range(N):\n",
    "    colors.append(plt.cm.twilight_shifted(0.8 * i/N))\n",
    "\n",
    "colors.append( plt.cm.Set1(4) )\n",
    "colors.append( plt.cm.Set1(2) )\n",
    "\n",
    "del colors[6]\n",
    "\n",
    "colors.append( plt.cm.Set3(1) )\n",
    "\n",
    "# put colors in order based on similarity\n",
    "# sort colors by hue\n",
    "import colorsys\n",
    "\n",
    "def rgb_to_hsv(rgb):\n",
    "    return colorsys.rgb_to_hsv(rgb[0], rgb[1], rgb[2])\n",
    "\n",
    "colors.sort(key=lambda x: rgb_to_hsv(x[:3])[0])"
   ]
  },
  {
   "cell_type": "code",
   "execution_count": 38,
   "metadata": {},
   "outputs": [],
   "source": [
    "import numpy as np\n",
    "colors = plt.cm.nipy_spectral(np.linspace(0, 1, 30))"
   ]
  },
  {
   "cell_type": "code",
   "execution_count": 44,
   "metadata": {},
   "outputs": [],
   "source": [
    "todel = [0, 1, 2, 5, 6, 13, 14, 16, 17, 25, 26]\n",
    "colors = [c for i, c in enumerate(colors) if i not in todel]\n"
   ]
  },
  {
   "cell_type": "code",
   "execution_count": 46,
   "metadata": {},
   "outputs": [
    {
     "data": {
      "image/png": "[encoded data removed]",
      "text/plain": [
       "<Figure size 1000x1000 with 19 Axes>"
      ]
     },
     "metadata": {},
     "output_type": "display_data"
    }
   ],
   "source": [
    "# show colored boxes using matplotlib\n",
    "plt.figure(figsize=(10, 10))\n",
    "for i, color in enumerate(colors):\n",
    "    plt.subplot(1, len(colors), i+1)\n",
    "    plt.title(f\"{i}\")\n",
    "    plt.imshow([[color]])\n",
    "    plt.axis('off')\n",
    "plt.show()\n"
   ]
  },
  {
   "cell_type": "code",
   "execution_count": 47,
   "metadata": {},
   "outputs": [
    {
     "name": "stdout",
     "output_type": "stream",
     "text": [
      "[[0.5123862745098039, 0.0, 0.6026156862745098, 1.0], [0.13593921568627448, 0.0, 0.6496980392156863, 1.0], [0.0, 0.36603921568627423, 0.8667, 1.0], [0.0, 0.5320431372549019, 0.8667, 1.0], [0.0, 0.613078431372549, 0.8274843137254903, 1.0], [0.0, 0.6601607843137255, 0.6863078431372549, 1.0], [0.0, 0.6667, 0.5856137254901961, 1.0], [0.0, 0.6510058823529411, 0.4078176470588235, 1.0], [0.0, 0.7803823529411762, 0.0, 1.0], [0.2875686274509804, 1.0, 0.0, 1.0], [0.7529078431372549, 0.9934607843137255, 0.0, 1.0], [0.8940843137254902, 0.9463784313725491, 0.0, 1.0], [0.9673039215686274, 0.865343137254902, 0.0, 1.0], [1.0, 0.7568627450980392, 0.0, 1.0], [1.0, 0.615686274509804, 0.0, 1.0], [1.0, 0.27058823529411763, 0.0, 1.0], [0.8222333333333334, 0.0, 0.0, 1.0], [0.8, 0.2980392156862745, 0.2980392156862745, 1.0], [0.8, 0.8, 0.8, 1.0]]\n"
     ]
    }
   ],
   "source": [
    "print([ [float(x) for x in color] for color in colors ])"
   ]
  },
  {
   "cell_type": "code",
   "execution_count": null,
   "metadata": {},
   "outputs": [],
   "source": []
  }
 ],
 "metadata": {
  "kernelspec": {
   "display_name": "map-of-science",
   "language": "python",
   "name": "python3"
  },
  "language_info": {
   "codemirror_mode": {
    "name": "ipython",
    "version": 3
   },
   "file_extension": ".py",
   "mimetype": "text/x-python",
   "name": "python",
   "nbconvert_exporter": "python",
   "pygments_lexer": "ipython3",
   "version": "3.10.0"
  }
 },
 "nbformat": 4,
 "nbformat_minor": 2
}
